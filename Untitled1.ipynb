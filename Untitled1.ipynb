{
 "cells": [
  {
   "cell_type": "markdown",
   "id": "5b8c78bf-14cb-4236-945b-6dbcc5130750",
   "metadata": {},
   "source": [
    " # My Jupyter Notebook on IBM Watson Studio\n",
    "\n",
    " ### Oséas Nascimento\n",
    "\n",
    " Data Scientist"
   ]
  },
  {
   "cell_type": "markdown",
   "id": "91656e2c-1761-458d-a5b0-a01d4ee1b236",
   "metadata": {},
   "source": [
    "_I love data science because whoever detains the information, detains the knowledge!_"
   ]
  },
  {
   "cell_type": "markdown",
   "id": "28681843-9e8d-4580-ba80-7ab592be4018",
   "metadata": {},
   "source": [
    "### The following code counts how many times the vowel 'o' appears in the sentence."
   ]
  },
  {
   "cell_type": "code",
   "execution_count": 29,
   "id": "2d44d12a-7f2d-43fe-813e-b0919d66f1fd",
   "metadata": {},
   "outputs": [
    {
     "name": "stdout",
     "output_type": "stream",
     "text": [
      "O caracter 'O' aparece 6 vezes na frase.\n"
     ]
    }
   ],
   "source": [
    "frase =\"My Jupyter Notebook on IBM Watson Studio\"\n",
    "count = 0\n",
    "for caracter in frase:\n",
    "    if caracter == 'o':\n",
    "        count += 1\n",
    "print(\"O caracter 'O' aparece %s vezes na frase.\" %(count))"
   ]
  },
  {
   "cell_type": "markdown",
   "id": "b9165ad8-9dbb-4edf-ba12-aac83c15c132",
   "metadata": {},
   "source": [
    "### |List|Fruit| \n",
    "#### |-----|-------| \n",
    "#### |1|Banana| \n",
    "#### |2|Apple|\n",
    "#### |3|Orange|\n",
    "|4|Pear|"
   ]
  },
  {
   "cell_type": "code",
   "execution_count": null,
   "id": "9e04935f-d9d6-4593-b8d0-165f3eba6ed0",
   "metadata": {},
   "outputs": [],
   "source": []
  }
 ],
 "metadata": {
  "kernelspec": {
   "display_name": "Python",
   "language": "python",
   "name": "conda-env-python-py"
  },
  "language_info": {
   "codemirror_mode": {
    "name": "ipython",
    "version": 3
   },
   "file_extension": ".py",
   "mimetype": "text/x-python",
   "name": "python",
   "nbconvert_exporter": "python",
   "pygments_lexer": "ipython3",
   "version": "3.7.12"
  }
 },
 "nbformat": 4,
 "nbformat_minor": 5
}
